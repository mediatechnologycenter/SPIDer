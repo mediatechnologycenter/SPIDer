{
 "cells": [
  {
   "cell_type": "code",
   "execution_count": null,
   "metadata": {},
   "outputs": [],
   "source": [
    "# Setting auto reload of custom functions\n",
    "%load_ext autoreload\n",
    "%autoreload 2\n",
    "\n",
    "import pickle\n",
    "import torch\n",
    "import pandas as pd\n",
    "import numpy as np\n",
    "import seaborn as sns\n",
    "import sys\n",
    "\n",
    "sys.path.append(\"../\")\n",
    "sys.path.append(\"../src\")\n",
    "\n",
    "from data import MDSData\n",
    "from mds_pid import MDSPID\n",
    "\n",
    "device = \"cuda\" if torch.cuda.is_available() else \"cpu\""
   ]
  },
  {
   "cell_type": "code",
   "execution_count": null,
   "metadata": {},
   "outputs": [],
   "source": [
    "def get_stats(df, col):\n",
    "    mean = df[col].mean()\n",
    "    median = df[col].median()\n",
    "    std = df[col].std()\n",
    "\n",
    "    return (mean, median, std)\n",
    "\n",
    "def calculate_ranking_of_highest_probability(lists_of_probabilities):\n",
    "    position_counts = [0]*10\n",
    "    for probabilities_list in lists_of_probabilities:\n",
    "        max_index = np.argmax(probabilities_list)\n",
    "        position_counts[max_index] += 1\n",
    "       \n",
    "    total_lists = len(lists_of_probabilities)\n",
    "    \n",
    "    ranking = [i/total_lists for i in position_counts]\n",
    "\n",
    "    return ranking\n",
    "\n",
    "def get_relative_results_df(results, total_sources):\n",
    "    df = pd.DataFrame(results)[[\"total_positive_mi\", \"redundancy\", \"union\", \"synergy\", \"unique\"]]\n",
    "    df[\"unique\"] = df.apply(lambda row: np.array(row[\"unique\"]) / np.array(row[\"total_positive_mi\"]), axis=1)\n",
    "\n",
    "    df = df.loc[df[\"total_positive_mi\"] > 0]\n",
    "    df_out = pd.DataFrame(df[[\"total_positive_mi\", \"redundancy\", \"union\", \"synergy\"]].to_numpy() / df[[\"total_positive_mi\"]].to_numpy(),\n",
    "                      columns=[\"total_positive_mi\", \"redundancy\", \"union\", \"synergy\"], index=df.index)\n",
    "\n",
    "    df_out[\"unique\"] = df[\"unique\"].apply(lambda x: sum(x)/len(x))\n",
    "    df_out[\"unique_variance\"] = df[\"unique\"].apply(lambda unique_values: np.var(unique_values))\n",
    "\n",
    "    df_out[\"total_sources\"] = total_sources\n",
    "    \n",
    "    return df_out\n",
    "\n",
    "def print_pid_stats(mds_pid_results, file_name, total_sources):\n",
    "    print(file_name)\n",
    "\n",
    "    mds_pid_results.print_dataset_prepared_stats()\n",
    "    print(\"\\n\")\n",
    "\n",
    "    df = get_relative_results_df(mds_pid_results.results, total_sources)\n",
    "\n",
    "    mean_r, median_r, std_r = get_stats(df, \"redundancy\")\n",
    "    mean_u, median_u, std_u = get_stats(df, \"union\")\n",
    "    mean_s, median_s, std_s = get_stats(df, \"synergy\")\n",
    "    mean_unique, median_unique, std_unique = get_stats(df, \"unique\")\n",
    "    mean_unique_var, median_unique_var, std_unique_var = get_stats(df, \"unique_variance\")\n",
    "\n",
    "    print(f\"Redundancy -- Mean: {mean_r}, Median: {median_r}, Std_dev: {std_r}\")\n",
    "    print(f\"Union -- Mean: {mean_u}, Median: {median_u}, Std_dev: {std_u}\")\n",
    "    print(f\"Synergy -- Mean: {mean_s}, Median: {median_s}, Std_dev: {std_s}\")\n",
    "    print(f\"Unique -- Mean: {mean_unique}, Median: {median_unique}, Std_dev: {std_unique}\")\n",
    "    print(f\"Unique variance -- Mean: {mean_unique_var}, Median: {median_unique_var}, Std_dev: {std_unique_var}\")\n",
    "\n",
    "    print(\"\\n\")"
   ]
  },
  {
   "cell_type": "code",
   "execution_count": null,
   "metadata": {},
   "outputs": [],
   "source": [
    "results_path = \"../outputs/results/\""
   ]
  },
  {
   "cell_type": "code",
   "execution_count": null,
   "metadata": {},
   "outputs": [],
   "source": [
    "multiNews = \"\"\n",
    "\n",
    "for total_sources in range(2,11):\n",
    "    file_name = f\"multi_news_fixedMDS_dataset__sources_{total_sources}_sample_PID.pkl\"\n",
    "    with open(f\"{results_path}{file_name}\", \"rb\") as f:\n",
    "        mds_pid_results = pickle.load(f)\n",
    "\n",
    "        c_df = get_relative_results_df(mds_pid_results.results, total_sources)\n",
    "        c_df[\"dataset\"] = \"MultiNews\"\n",
    "\n",
    "        if total_sources == 2:\n",
    "            multiNews = c_df\n",
    "        else:\n",
    "            multiNews = pd.concat([multiNews, c_df], ignore_index=True)"
   ]
  },
  {
   "cell_type": "code",
   "execution_count": null,
   "metadata": {},
   "outputs": [],
   "source": [
    "for total_sources in range(2,11):\n",
    "    file_name = f\"multi_news_fixedMDS_dataset__sources_{total_sources}_sample_PID.pkl\"\n",
    "    with open(f\"{results_path}{file_name}\", \"rb\") as f:\n",
    "        mds_pid_results = pickle.load(f)        \n",
    "        print_pid_stats(mds_pid_results, file_name, total_sources)"
   ]
  },
  {
   "cell_type": "code",
   "execution_count": null,
   "metadata": {},
   "outputs": [],
   "source": [
    "g = sns.pairplot(multiNews[[\"redundancy\", \"unique_variance\", \"total_sources\", \"unique\"]], hue='total_sources')"
   ]
  },
  {
   "cell_type": "code",
   "execution_count": null,
   "metadata": {},
   "outputs": [],
   "source": [
    "g = sns.boxplot(x='total_sources', y='redundancy', data=multiNews)"
   ]
  },
  {
   "cell_type": "code",
   "execution_count": null,
   "metadata": {},
   "outputs": [],
   "source": [
    "ranking = {}\n",
    "source = \"MultiNews\"\n",
    "for total_sources in range(2, 11):\n",
    "    all_unique_lists = multiNews[multiNews[\"total_sources\"] == total_sources][\"unique\"]\n",
    "\n",
    "    if not total_sources in ranking:\n",
    "        ranking[total_sources] = {}\n",
    "        \n",
    "    ranking[total_sources][source] = calculate_ranking_of_highest_probability(all_unique_lists)\n",
    "\n",
    "ranking"
   ]
  }
 ],
 "metadata": {
  "kernelspec": {
   "display_name": ".venv",
   "language": "python",
   "name": "python3"
  },
  "language_info": {
   "codemirror_mode": {
    "name": "ipython",
    "version": 3
   },
   "file_extension": ".py",
   "mimetype": "text/x-python",
   "name": "python",
   "nbconvert_exporter": "python",
   "pygments_lexer": "ipython3",
   "version": "3.10.13"
  },
  "orig_nbformat": 4
 },
 "nbformat": 4,
 "nbformat_minor": 2
}
