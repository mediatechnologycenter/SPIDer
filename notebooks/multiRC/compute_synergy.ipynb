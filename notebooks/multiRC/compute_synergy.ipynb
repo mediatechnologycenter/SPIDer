{
 "cells": [
  {
   "cell_type": "code",
   "execution_count": null,
   "metadata": {},
   "outputs": [],
   "source": [
    "from datasets import load_dataset\n",
    "import pandas as pd\n",
    "\n",
    "import pickle\n",
    "\n",
    "import sys\n",
    "sys.path.append(\"../../\")\n",
    "sys.path.append(\"../../src\")\n",
    "\n",
    "from mds_pid import MDSPID"
   ]
  },
  {
   "cell_type": "code",
   "execution_count": null,
   "metadata": {},
   "outputs": [],
   "source": [
    "def get_stats(df, col):\n",
    "    mean = df[col].mean()\n",
    "    median = df[col].median()\n",
    "    std = df[col].std()\n",
    "\n",
    "    return (mean, median, std)\n",
    "\n",
    "def print_pid_stats(df):\n",
    "   \n",
    "    mean_r, median_r, std_r = get_stats(df, \"redundancy\")\n",
    "    mean_u, median_u, std_u = get_stats(df, \"union\")\n",
    "    mean_s, median_s, std_s = get_stats(df, \"synergy\")\n",
    "\n",
    "    df[\"unique_total\"] = df[\"unique\"].apply(lambda x: sum(x)/len(x))\n",
    "    mean_unique, median_unique, std_unique = get_stats(df, \"unique_total\")\n",
    "\n",
    "    print(f\"Redundancy -- Mean: {mean_r}, Median: {median_r}, Std_dev: {std_r}\")\n",
    "    print(f\"Union -- Mean: {mean_u}, Median: {median_u}, Std_dev: {std_u}\")\n",
    "    print(f\"Synergy -- Mean: {mean_s}, Median: {median_s}, Std_dev: {std_s}\")\n",
    "    print(f\"Unique -- Mean: {mean_unique}, Median: {median_unique}, Std_dev: {std_unique}\")"
   ]
  },
  {
   "cell_type": "code",
   "execution_count": null,
   "metadata": {},
   "outputs": [],
   "source": [
    "dataset = load_dataset(\"mtc/multirc_train_all_answers_and_random\")\n",
    "\n",
    "df_dataset = pd.DataFrame(dataset[\"train\"])\n",
    "df_dataset[\"n_docs\"] = df_dataset[\"document\"].apply(lambda x: x.count(\"|||||\")+1)\n",
    "\n",
    "only_2_sources = df_dataset[df_dataset[\"n_docs\"]==2].reset_index(drop=True)\n",
    "only_3_sources = df_dataset[df_dataset[\"n_docs\"]==3].reset_index(drop=True)\n",
    "only_4_sources = df_dataset[df_dataset[\"n_docs\"]==4].reset_index(drop=True)\n",
    "only_6_sources = df_dataset[df_dataset[\"n_docs\"]==6].reset_index(drop=True)\n",
    "\n",
    "sources_combined = pd.concat([only_2_sources, only_3_sources, only_4_sources, only_6_sources], ignore_index=True)"
   ]
  },
  {
   "cell_type": "code",
   "execution_count": null,
   "metadata": {},
   "outputs": [],
   "source": [
    "multirc = \"\"\n",
    "results_path = \"multirc/\"\n",
    "for total_sources in range(2, 7):\n",
    "    if total_sources == 5:\n",
    "        continue\n",
    "\n",
    "    file_name = f\"multiRC_MDS_fixedMDS_dataset__sources_{total_sources}_PID.pkl\"\n",
    "    with open(f\"{results_path}{file_name}\", \"rb\") as f:\n",
    "        mds_pid_results_df_multirc = pickle.load(f)\n",
    "\n",
    "        c_df = pd.DataFrame(mds_pid_results_df_multirc.results)[[\"total_positive_mi\", \"redundancy\", \"union\", \"synergy\", \"unique\"]]\n",
    "        \n",
    "        if total_sources == 2:\n",
    "            multirc = c_df\n",
    "        else:\n",
    "            multirc = pd.concat([multirc, c_df], ignore_index=True)"
   ]
  },
  {
   "cell_type": "code",
   "execution_count": null,
   "metadata": {},
   "outputs": [],
   "source": [
    "df_concat = pd.concat([sources_combined, multirc], axis=1)"
   ]
  },
  {
   "cell_type": "code",
   "execution_count": null,
   "metadata": {},
   "outputs": [],
   "source": [
    "for split in [0, 1, -1]:\n",
    "    df_isAnwer = df_concat[df_concat[\"isAnswer\"] == split]\n",
    "    print(f\"split: {split}\")\n",
    "    print_pid_stats(df_isAnwer)"
   ]
  }
 ],
 "metadata": {
  "kernelspec": {
   "display_name": ".venv",
   "language": "python",
   "name": "python3"
  },
  "language_info": {
   "codemirror_mode": {
    "name": "ipython",
    "version": 3
   },
   "file_extension": ".py",
   "mimetype": "text/x-python",
   "name": "python",
   "nbconvert_exporter": "python",
   "pygments_lexer": "ipython3",
   "version": "3.10.13"
  },
  "orig_nbformat": 4
 },
 "nbformat": 4,
 "nbformat_minor": 2
}
