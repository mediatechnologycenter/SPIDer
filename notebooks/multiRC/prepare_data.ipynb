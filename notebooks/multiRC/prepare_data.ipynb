{
 "cells": [
  {
   "cell_type": "code",
   "execution_count": null,
   "metadata": {},
   "outputs": [],
   "source": [
    "import json\n",
    "import numpy as np\n",
    "import re\n",
    "import random\n",
    "import pandas as pd\n",
    "from datasets import Dataset, DatasetDict\n",
    "from collections import defaultdict"
   ]
  },
  {
   "cell_type": "code",
   "execution_count": null,
   "metadata": {},
   "outputs": [],
   "source": [
    "random.seed(111)"
   ]
  },
  {
   "cell_type": "code",
   "execution_count": null,
   "metadata": {},
   "outputs": [],
   "source": [
    "data_path = \"train_456-fixedIds.json\"\n",
    "\n",
    "with open(data_path) as f:\n",
    "    ds = json.load(f)\n",
    "\n",
    "data = ds[\"data\"]"
   ]
  },
  {
   "cell_type": "code",
   "execution_count": null,
   "metadata": {},
   "outputs": [],
   "source": [
    "sentence_pattern = re.compile(r'<b>(.*?)<br>')\n",
    "sentence_id_pattern = re.compile(r'Sent (\\d+): </b>(.*?)$')"
   ]
  },
  {
   "cell_type": "code",
   "execution_count": null,
   "metadata": {},
   "outputs": [],
   "source": [
    "class SummaryHash:\n",
    "    def __init__(self):\n",
    "        self.summary_hash = defaultdict(list)\n",
    "\n",
    "    def add_summary(self, summary, sample_id):\n",
    "        length = len(summary)\n",
    "        self.summary_hash[length].append({\"id\": sample_id, \"text\": summary})\n",
    "\n",
    "    def get_summary_by_length(self, length):\n",
    "        return self.summary_hash.get(length, [])\n",
    "\n",
    "summary_hasher = SummaryHash()\n",
    "\n",
    "def generate_sentence_dict(text, sentence_pattern, sentence_id_pattern):\n",
    "    output = {}\n",
    "    sentences = sentence_pattern.findall(text)\n",
    "\n",
    "    for sentence in sentences:\n",
    "        sent_info = sentence_id_pattern.search(sentence)\n",
    "        sent_id = int(sent_info.group(1))\n",
    "        sent_text = sent_info.group(2)\n",
    "        output[sent_id] = sent_text\n",
    "\n",
    "    return output\n",
    "\n",
    "for i, sample in enumerate(ds[\"data\"]):\n",
    "    text = sample[\"paragraph\"][\"text\"]\n",
    "    sentence_dict = generate_sentence_dict(text, sentence_pattern, sentence_id_pattern)\n",
    "\n",
    "    sample_id = sample[\"id\"]\n",
    "    for question in sample[\"paragraph\"][\"questions\"]:\n",
    "        for answer in question[\"answers\"]:\n",
    "            summary = question[\"question\"][:-1] + \" \" + answer[\"text\"]\n",
    "            summary_hasher.add_summary(summary, sample_id)"
   ]
  },
  {
   "cell_type": "code",
   "execution_count": null,
   "metadata": {},
   "outputs": [],
   "source": [
    "def get_documents(sentence_dict, indeces):\n",
    "    docs = [sentence_dict[sent_id+1] for sent_id in indeces]\n",
    "    docs_str = \" ||||| \".join(docs)\n",
    "\n",
    "    return docs_str\n",
    "\n",
    "def get_random_summary(summary_hasher, summary_lengths, sample_id):\n",
    "    min_len = min(summary_lengths)\n",
    "    max_len = max(summary_lengths)\n",
    "    for length in range(min_len, max_len + 1):\n",
    "        summary_candidates = summary_hasher.get_summary_by_length(length)\n",
    "        random.shuffle(summary_candidates)\n",
    "        for summary in summary_candidates:\n",
    "            if summary[\"id\"] != sample_id:\n",
    "                return summary[\"text\"]\n",
    "            \n",
    "    print(\"not found\")\n",
    "\n",
    "\n",
    "parsed_dataset = []\n",
    "for i, sample in enumerate(ds[\"data\"]):\n",
    "    text = sample[\"paragraph\"][\"text\"]\n",
    "    sentence_dict = generate_sentence_dict(text, sentence_pattern, sentence_id_pattern)\n",
    "\n",
    "    sample_id = sample[\"id\"]\n",
    "    for question in sample[\"paragraph\"][\"questions\"]:\n",
    "        question_id = question[\"idx\"]\n",
    "\n",
    "        sentences_used = question[\"sentences_used\"]\n",
    "\n",
    "        docs_str = get_documents(sentence_dict, sentences_used)\n",
    "\n",
    "        summary_lengths = []\n",
    "        for answer in question[\"answers\"]:\n",
    "            summary = question[\"question\"][:-1] + \" \" + answer[\"text\"]\n",
    "\n",
    "            isAnswer = 1 if answer[\"isAnswer\"] else 0\n",
    "            new_entry = {\"document\": docs_str, \\\n",
    "                         \"summary\": summary, \\\n",
    "                         \"isAnswer\": isAnswer, \\\n",
    "                         \"q_id\": question_id, \\\n",
    "                         \"sample_id\": sample_id, \\\n",
    "                         \"isMultisent\": question[\"multisent\"]}\n",
    "            \n",
    "            parsed_dataset.append(new_entry)\n",
    "            summary_lengths.append(len(summary))\n",
    "\n",
    "        random_summary = get_random_summary(summary_hasher, summary_lengths, sample_id)\n",
    "        new_entry = {\"document\": docs_str, \\\n",
    "                     \"summary\": random_summary, \\\n",
    "                     \"isAnswer\": -1, \\\n",
    "                     \"q_id\": question_id, \\\n",
    "                     \"sample_id\": sample_id, \\\n",
    "                     \"isMultisent\": question[\"multisent\"]}\n",
    "            \n",
    "        parsed_dataset.append(new_entry)"
   ]
  },
  {
   "cell_type": "code",
   "execution_count": null,
   "metadata": {},
   "outputs": [],
   "source": [
    "parsed_dataset[15]"
   ]
  },
  {
   "cell_type": "code",
   "execution_count": null,
   "metadata": {},
   "outputs": [],
   "source": [
    "df_multirc_processed = pd.DataFrame(parsed_dataset)\n",
    "df_multirc_processed[\"n_docs\"] = df_multirc_processed[\"document\"].apply(lambda x: x.count(\"|||||\")+1)\n",
    "df_multirc_processed[\"n_docs\"].value_counts()"
   ]
  },
  {
   "cell_type": "code",
   "execution_count": null,
   "metadata": {},
   "outputs": [],
   "source": [
    "df = pd.DataFrame(parsed_dataset)\n",
    " \n",
    "train_dataset = Dataset.from_pandas(df)\n",
    "\n",
    "dataset_dict = {\n",
    "    \"train\": train_dataset\n",
    "}\n",
    "\n",
    "hf_dataset = DatasetDict(dataset_dict)\n",
    "hf_dataset"
   ]
  },
  {
   "cell_type": "code",
   "execution_count": null,
   "metadata": {},
   "outputs": [],
   "source": [
    "hf_dataset.push_to_hub(\"multiRC_MDS\")"
   ]
  }
 ],
 "metadata": {
  "kernelspec": {
   "display_name": ".venv",
   "language": "python",
   "name": "python3"
  },
  "language_info": {
   "codemirror_mode": {
    "name": "ipython",
    "version": 3
   },
   "file_extension": ".py",
   "mimetype": "text/x-python",
   "name": "python",
   "nbconvert_exporter": "python",
   "pygments_lexer": "ipython3",
   "version": "3.10.13"
  },
  "orig_nbformat": 4
 },
 "nbformat": 4,
 "nbformat_minor": 2
}
